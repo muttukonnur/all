{
 "cells": [
  {
   "cell_type": "markdown",
   "id": "8f265bf1",
   "metadata": {},
   "source": [
    "## a.read a datatset from diamonds data frame and modify the default columns values and print the first 6 rows"
   ]
  },
  {
   "cell_type": "code",
   "execution_count": 37,
   "id": "c12e55c1",
   "metadata": {},
   "outputs": [
    {
     "name": "stdout",
     "output_type": "stream",
     "text": [
      "First 6 rows:\n",
      "   carat        cut     x     y     z\n",
      "0   0.23      Ideal  3.95  3.98  2.43\n",
      "1   0.21    Premium  3.89  3.84  2.31\n",
      "2   0.23       Good  4.05  4.07  2.31\n",
      "3   0.29    Premium  4.20  4.23  2.63\n",
      "4   0.31       Good  4.34  4.35  2.75\n",
      "5   0.24  Very Good  3.94  3.96  2.48\n"
     ]
    }
   ],
   "source": [
    "import pandas as pd\n",
    "user_cols=['carat','cut','x','y','z']\n",
    "diamonds=pd.read_csv('diamonds.csv')\n",
    "print(\"First 6 rows:\")\n",
    "print(diamonds[user_cols].head(6))"
   ]
  },
  {
   "cell_type": "markdown",
   "id": "71c10f99",
   "metadata": {},
   "source": [
    "## b.select a series from diamonds data frame.print the content of the series."
   ]
  },
  {
   "cell_type": "code",
   "execution_count": 38,
   "id": "3b46dd4b",
   "metadata": {},
   "outputs": [
    {
     "data": {
      "text/plain": [
       "0        0.23\n",
       "1        0.21\n",
       "2        0.23\n",
       "3        0.29\n",
       "4        0.31\n",
       "         ... \n",
       "53935    0.72\n",
       "53936    0.72\n",
       "53937    0.70\n",
       "53938    0.86\n",
       "53939    0.75\n",
       "Name: carat, Length: 53940, dtype: float64"
      ]
     },
     "execution_count": 38,
     "metadata": {},
     "output_type": "execute_result"
    }
   ],
   "source": [
    "diamonds['carat']"
   ]
  },
  {
   "cell_type": "markdown",
   "id": "99918f7a",
   "metadata": {},
   "source": [
    "## c.create a new 'Quality -color' series (use bracket notation to define the series name) of the diamonds dataframe"
   ]
  },
  {
   "cell_type": "code",
   "execution_count": 39,
   "id": "081f8742",
   "metadata": {},
   "outputs": [
    {
     "data": {
      "text/html": [
       "<div>\n",
       "<style scoped>\n",
       "    .dataframe tbody tr th:only-of-type {\n",
       "        vertical-align: middle;\n",
       "    }\n",
       "\n",
       "    .dataframe tbody tr th {\n",
       "        vertical-align: top;\n",
       "    }\n",
       "\n",
       "    .dataframe thead th {\n",
       "        text-align: right;\n",
       "    }\n",
       "</style>\n",
       "<table border=\"1\" class=\"dataframe\">\n",
       "  <thead>\n",
       "    <tr style=\"text-align: right;\">\n",
       "      <th></th>\n",
       "      <th>Unnamed: 0</th>\n",
       "      <th>carat</th>\n",
       "      <th>cut</th>\n",
       "      <th>color</th>\n",
       "      <th>clarity</th>\n",
       "      <th>depth</th>\n",
       "      <th>table</th>\n",
       "      <th>price</th>\n",
       "      <th>x</th>\n",
       "      <th>y</th>\n",
       "      <th>z</th>\n",
       "      <th>quality =color</th>\n",
       "    </tr>\n",
       "  </thead>\n",
       "  <tbody>\n",
       "    <tr>\n",
       "      <th>0</th>\n",
       "      <td>1</td>\n",
       "      <td>0.23</td>\n",
       "      <td>Ideal</td>\n",
       "      <td>E</td>\n",
       "      <td>SI2</td>\n",
       "      <td>61.5</td>\n",
       "      <td>55.0</td>\n",
       "      <td>326</td>\n",
       "      <td>3.95</td>\n",
       "      <td>3.98</td>\n",
       "      <td>2.43</td>\n",
       "      <td>Ideal,E</td>\n",
       "    </tr>\n",
       "    <tr>\n",
       "      <th>1</th>\n",
       "      <td>2</td>\n",
       "      <td>0.21</td>\n",
       "      <td>Premium</td>\n",
       "      <td>E</td>\n",
       "      <td>SI1</td>\n",
       "      <td>59.8</td>\n",
       "      <td>61.0</td>\n",
       "      <td>326</td>\n",
       "      <td>3.89</td>\n",
       "      <td>3.84</td>\n",
       "      <td>2.31</td>\n",
       "      <td>Premium,E</td>\n",
       "    </tr>\n",
       "    <tr>\n",
       "      <th>2</th>\n",
       "      <td>3</td>\n",
       "      <td>0.23</td>\n",
       "      <td>Good</td>\n",
       "      <td>E</td>\n",
       "      <td>VS1</td>\n",
       "      <td>56.9</td>\n",
       "      <td>65.0</td>\n",
       "      <td>327</td>\n",
       "      <td>4.05</td>\n",
       "      <td>4.07</td>\n",
       "      <td>2.31</td>\n",
       "      <td>Good,E</td>\n",
       "    </tr>\n",
       "    <tr>\n",
       "      <th>3</th>\n",
       "      <td>4</td>\n",
       "      <td>0.29</td>\n",
       "      <td>Premium</td>\n",
       "      <td>I</td>\n",
       "      <td>VS2</td>\n",
       "      <td>62.4</td>\n",
       "      <td>58.0</td>\n",
       "      <td>334</td>\n",
       "      <td>4.20</td>\n",
       "      <td>4.23</td>\n",
       "      <td>2.63</td>\n",
       "      <td>Premium,I</td>\n",
       "    </tr>\n",
       "    <tr>\n",
       "      <th>4</th>\n",
       "      <td>5</td>\n",
       "      <td>0.31</td>\n",
       "      <td>Good</td>\n",
       "      <td>J</td>\n",
       "      <td>SI2</td>\n",
       "      <td>63.3</td>\n",
       "      <td>58.0</td>\n",
       "      <td>335</td>\n",
       "      <td>4.34</td>\n",
       "      <td>4.35</td>\n",
       "      <td>2.75</td>\n",
       "      <td>Good,J</td>\n",
       "    </tr>\n",
       "  </tbody>\n",
       "</table>\n",
       "</div>"
      ],
      "text/plain": [
       "   Unnamed: 0  carat      cut color clarity  depth  table  price     x     y  \\\n",
       "0           1   0.23    Ideal     E     SI2   61.5   55.0    326  3.95  3.98   \n",
       "1           2   0.21  Premium     E     SI1   59.8   61.0    326  3.89  3.84   \n",
       "2           3   0.23     Good     E     VS1   56.9   65.0    327  4.05  4.07   \n",
       "3           4   0.29  Premium     I     VS2   62.4   58.0    334  4.20  4.23   \n",
       "4           5   0.31     Good     J     SI2   63.3   58.0    335  4.34  4.35   \n",
       "\n",
       "      z quality =color  \n",
       "0  2.43        Ideal,E  \n",
       "1  2.31      Premium,E  \n",
       "2  2.31         Good,E  \n",
       "3  2.63      Premium,I  \n",
       "4  2.75         Good,J  "
      ]
     },
     "execution_count": 39,
     "metadata": {},
     "output_type": "execute_result"
    }
   ],
   "source": [
    "diamonds['quality =color'] = diamonds.cut+','+diamonds.color\n",
    "diamonds.head()"
   ]
  },
  {
   "cell_type": "markdown",
   "id": "63a0e17e",
   "metadata": {},
   "source": [
    "## D.rename two of the columns of the diamonds data frame"
   ]
  },
  {
   "cell_type": "code",
   "execution_count": 40,
   "id": "1ba9d1a5",
   "metadata": {},
   "outputs": [
    {
     "name": "stdout",
     "output_type": "stream",
     "text": [
      "original dataframe:\n",
      "   Unnamed: 0  carat      cut color clarity  depth  table  price     x     y  \\\n",
      "0           1   0.23    Ideal     E     SI2   61.5   55.0    326  3.95  3.98   \n",
      "1           2   0.21  Premium     E     SI1   59.8   61.0    326  3.89  3.84   \n",
      "2           3   0.23     Good     E     VS1   56.9   65.0    327  4.05  4.07   \n",
      "3           4   0.29  Premium     I     VS2   62.4   58.0    334  4.20  4.23   \n",
      "4           5   0.31     Good     J     SI2   63.3   58.0    335  4.34  4.35   \n",
      "\n",
      "      z quality =color  \n",
      "0  2.43        Ideal,E  \n",
      "1  2.31      Premium,E  \n",
      "2  2.31         Good,E  \n",
      "3  2.63      Premium,I  \n",
      "4  2.75         Good,J  \n",
      "/n after remaining two of the columns:\n",
      "   Unnamed: 0  carat      cut diamond_color diamond_clarity  depth  table  \\\n",
      "0           1   0.23    Ideal             E             SI2   61.5   55.0   \n",
      "1           2   0.21  Premium             E             SI1   59.8   61.0   \n",
      "2           3   0.23     Good             E             VS1   56.9   65.0   \n",
      "3           4   0.29  Premium             I             VS2   62.4   58.0   \n",
      "4           5   0.31     Good             J             SI2   63.3   58.0   \n",
      "\n",
      "   price     x     y     z quality =color  \n",
      "0    326  3.95  3.98  2.43        Ideal,E  \n",
      "1    326  3.89  3.84  2.31      Premium,E  \n",
      "2    327  4.05  4.07  2.31         Good,E  \n",
      "3    334  4.20  4.23  2.63      Premium,I  \n",
      "4    335  4.34  4.35  2.75         Good,J  \n"
     ]
    }
   ],
   "source": [
    "print(\"original dataframe:\")\n",
    "print(diamonds.head())\n",
    "print(\"/n after remaining two of the columns:\")\n",
    "diamonds.rename(columns={'color':'diamond_color','clarity':'diamond_clarity'},inplace=True)\n",
    "print(diamonds.head())"
   ]
  },
  {
   "cell_type": "markdown",
   "id": "f1b2882a",
   "metadata": {},
   "source": [
    "## e.Remove the second column of the diamonds data frame and remove multiple columns at ones of the diamonds data frame"
   ]
  },
  {
   "cell_type": "code",
   "execution_count": 41,
   "id": "78894638",
   "metadata": {},
   "outputs": [
    {
     "name": "stdout",
     "output_type": "stream",
     "text": [
      "original dataframe:\n",
      "   Unnamed: 0  carat      cut color clarity  depth  table  price     x     y  \\\n",
      "0           1   0.23    Ideal     E     SI2   61.5   55.0    326  3.95  3.98   \n",
      "1           2   0.21  Premium     E     SI1   59.8   61.0    326  3.89  3.84   \n",
      "2           3   0.23     Good     E     VS1   56.9   65.0    327  4.05  4.07   \n",
      "3           4   0.29  Premium     I     VS2   62.4   58.0    334  4.20  4.23   \n",
      "4           5   0.31     Good     J     SI2   63.3   58.0    335  4.34  4.35   \n",
      "\n",
      "      z  \n",
      "0  2.43  \n",
      "1  2.31  \n",
      "2  2.31  \n",
      "3  2.63  \n",
      "4  2.75  \n",
      "\n",
      " After removing the second columns:\n",
      "   Unnamed: 0  carat color clarity  depth  table  price     x     y     z\n",
      "0           1   0.23     E     SI2   61.5   55.0    326  3.95  3.98  2.43\n",
      "1           2   0.21     E     SI1   59.8   61.0    326  3.89  3.84  2.31\n",
      "2           3   0.23     E     VS1   56.9   65.0    327  4.05  4.07  2.31\n",
      "3           4   0.29     I     VS2   62.4   58.0    334  4.20  4.23  2.63\n",
      "4           5   0.31     J     SI2   63.3   58.0    335  4.34  4.35  2.75\n"
     ]
    }
   ],
   "source": [
    "diamonds=pd.read_csv('diamonds.csv')\n",
    "print(\"original dataframe:\")\n",
    "print(diamonds.head())\n",
    "print(\"\\n After removing the second columns:\")\n",
    "diamonds.drop('cut',axis=1,inplace=True)\n",
    "print(diamonds.head())"
   ]
  },
  {
   "cell_type": "markdown",
   "id": "79628069",
   "metadata": {},
   "source": [
    "## E."
   ]
  },
  {
   "cell_type": "code",
   "execution_count": 42,
   "id": "04f63c31",
   "metadata": {},
   "outputs": [
    {
     "name": "stdout",
     "output_type": "stream",
     "text": [
      "original dataframe:\n",
      "   Unnamed: 0  carat      cut color clarity  depth  table  price     x     y  \\\n",
      "0           1   0.23    Ideal     E     SI2   61.5   55.0    326  3.95  3.98   \n",
      "1           2   0.21  Premium     E     SI1   59.8   61.0    326  3.89  3.84   \n",
      "2           3   0.23     Good     E     VS1   56.9   65.0    327  4.05  4.07   \n",
      "3           4   0.29  Premium     I     VS2   62.4   58.0    334  4.20  4.23   \n",
      "4           5   0.31     Good     J     SI2   63.3   58.0    335  4.34  4.35   \n",
      "\n",
      "      z  \n",
      "0  2.43  \n",
      "1  2.31  \n",
      "2  2.31  \n",
      "3  2.63  \n",
      "4  2.75  \n",
      "\n",
      " after removing multiple columns:\n",
      "   Unnamed: 0      cut clarity  depth  table  price     x     z\n",
      "0           1    Ideal     SI2   61.5   55.0    326  3.95  2.43\n",
      "1           2  Premium     SI1   59.8   61.0    326  3.89  2.31\n",
      "2           3     Good     VS1   56.9   65.0    327  4.05  2.31\n",
      "3           4  Premium     VS2   62.4   58.0    334  4.20  2.63\n",
      "4           5     Good     SI2   63.3   58.0    335  4.34  2.75\n"
     ]
    }
   ],
   "source": [
    "diamonds=pd.read_csv('diamonds.csv')\n",
    "print(\"original dataframe:\")\n",
    "print(diamonds.head())\n",
    "print(\"\\n after removing multiple columns:\")\n",
    "diamonds.drop(['carat','color','y'],axis=1,inplace=True)\n",
    "print(diamonds.head())"
   ]
  },
  {
   "cell_type": "markdown",
   "id": "40652b75",
   "metadata": {},
   "source": [
    "## F.Remove multiple rows at once(axis=0 refers to rows) from diamonds data frame"
   ]
  },
  {
   "cell_type": "code",
   "execution_count": 43,
   "id": "ca1a19bb",
   "metadata": {},
   "outputs": [
    {
     "name": "stdout",
     "output_type": "stream",
     "text": [
      "original dataframe:\n",
      "   Unnamed: 0  carat      cut color clarity  depth  table  price     x     y  \\\n",
      "0           1   0.23    Ideal     E     SI2   61.5   55.0    326  3.95  3.98   \n",
      "1           2   0.21  Premium     E     SI1   59.8   61.0    326  3.89  3.84   \n",
      "2           3   0.23     Good     E     VS1   56.9   65.0    327  4.05  4.07   \n",
      "3           4   0.29  Premium     I     VS2   62.4   58.0    334  4.20  4.23   \n",
      "4           5   0.31     Good     J     SI2   63.3   58.0    335  4.34  4.35   \n",
      "\n",
      "      z  \n",
      "0  2.43  \n",
      "1  2.31  \n",
      "2  2.31  \n",
      "3  2.63  \n",
      "4  2.75  \n",
      "\n",
      " After removing multiple rows:\n",
      "   Unnamed: 0  carat        cut color clarity  depth  table  price     x  \\\n",
      "0           1   0.23      Ideal     E     SI2   61.5   55.0    326  3.95   \n",
      "1           2   0.21    Premium     E     SI1   59.8   61.0    326  3.89   \n",
      "3           4   0.29    Premium     I     VS2   62.4   58.0    334  4.20   \n",
      "6           7   0.24  Very Good     I    VVS1   62.3   57.0    336  3.95   \n",
      "7           8   0.26  Very Good     H     SI1   61.9   55.0    337  4.07   \n",
      "\n",
      "      y     z  \n",
      "0  3.98  2.43  \n",
      "1  3.84  2.31  \n",
      "3  4.23  2.63  \n",
      "6  3.98  2.47  \n",
      "7  4.11  2.53  \n"
     ]
    }
   ],
   "source": [
    "diamonds=pd.read_csv('diamonds.csv')\n",
    "print(\"original dataframe:\")\n",
    "print(diamonds.head())\n",
    "print(\"\\n After removing multiple rows:\")\n",
    "diamonds.drop([2,4,5],axis=0,inplace=True)\n",
    "print(diamonds.head())"
   ]
  },
  {
   "cell_type": "markdown",
   "id": "46846a1d",
   "metadata": {},
   "source": [
    "## G.sort the 'price' series in descending order (returns a series) of diamonds data frame and sort the entire diamonds data frame by the 'carat' series in ascending order "
   ]
  },
  {
   "cell_type": "code",
   "execution_count": 44,
   "id": "112d5949",
   "metadata": {},
   "outputs": [
    {
     "name": "stdout",
     "output_type": "stream",
     "text": [
      "\n",
      " price series in descending order:\n",
      "27749    18823\n",
      "27748    18818\n",
      "27747    18806\n",
      "27746    18804\n",
      "27745    18803\n",
      "         ...  \n",
      "7          337\n",
      "6          336\n",
      "3          334\n",
      "1          326\n",
      "0          326\n",
      "Name: price, Length: 53937, dtype: int64\n"
     ]
    }
   ],
   "source": [
    "print(\"\\n price series in descending order:\")\n",
    "result=diamonds.price.sort_values(ascending=False)\n",
    "print(result)"
   ]
  },
  {
   "cell_type": "markdown",
   "id": "dee679c4",
   "metadata": {},
   "source": [
    "## G."
   ]
  },
  {
   "cell_type": "code",
   "execution_count": 45,
   "id": "3e8c3eb3",
   "metadata": {},
   "outputs": [
    {
     "name": "stdout",
     "output_type": "stream",
     "text": [
      "sorting the entire diamonds data frame by the 'carat' series in ascending order\n",
      "       Unnamed: 0  carat        cut color clarity  depth  table  price      x  \\\n",
      "31593       31594   0.20    Premium     E     VS2   61.1   59.0    367   3.81   \n",
      "31598       31599   0.20  Very Good     E     VS2   63.4   59.0    367   3.74   \n",
      "14             15   0.20    Premium     E     SI2   60.2   62.0    345   3.79   \n",
      "31600       31601   0.20    Premium     D     VS2   62.3   60.0    367   3.73   \n",
      "31599       31600   0.20      Ideal     E     VS2   62.2   57.0    367   3.76   \n",
      "...           ...    ...        ...   ...     ...    ...    ...    ...    ...   \n",
      "25998       25999   4.01    Premium     I      I1   61.0   61.0  15223  10.14   \n",
      "25999       26000   4.01    Premium     J      I1   62.5   62.0  15223  10.02   \n",
      "27130       27131   4.13       Fair     H      I1   64.8   61.0  17329  10.00   \n",
      "27630       27631   4.50       Fair     J      I1   65.8   58.0  18531  10.23   \n",
      "27415       27416   5.01       Fair     J      I1   65.5   59.0  18018  10.74   \n",
      "\n",
      "           y     z  \n",
      "31593   3.78  2.32  \n",
      "31598   3.71  2.36  \n",
      "14      3.75  2.27  \n",
      "31600   3.68  2.31  \n",
      "31599   3.73  2.33  \n",
      "...      ...   ...  \n",
      "25998  10.10  6.17  \n",
      "25999   9.94  6.24  \n",
      "27130   9.85  6.43  \n",
      "27630  10.16  6.72  \n",
      "27415  10.54  6.98  \n",
      "\n",
      "[53937 rows x 11 columns]\n",
      "sorting the entire diamonds data frame by the 'carat' series in descending order\n",
      "       Unnamed: 0  carat      cut color clarity  depth  table  price      x  \\\n",
      "27415       27416   5.01     Fair     J      I1   65.5   59.0  18018  10.74   \n",
      "27630       27631   4.50     Fair     J      I1   65.8   58.0  18531  10.23   \n",
      "27130       27131   4.13     Fair     H      I1   64.8   61.0  17329  10.00   \n",
      "25999       26000   4.01  Premium     J      I1   62.5   62.0  15223  10.02   \n",
      "25998       25999   4.01  Premium     I      I1   61.0   61.0  15223  10.14   \n",
      "...           ...    ...      ...   ...     ...    ...    ...    ...    ...   \n",
      "31594       31595   0.20  Premium     E     VS2   59.7   62.0    367   3.84   \n",
      "31593       31594   0.20  Premium     E     VS2   61.1   59.0    367   3.81   \n",
      "31592       31593   0.20  Premium     E     VS2   59.0   60.0    367   3.81   \n",
      "31591       31592   0.20  Premium     E     VS2   59.8   62.0    367   3.79   \n",
      "31600       31601   0.20  Premium     D     VS2   62.3   60.0    367   3.73   \n",
      "\n",
      "           y     z  \n",
      "27415  10.54  6.98  \n",
      "27630  10.16  6.72  \n",
      "27130   9.85  6.43  \n",
      "25999   9.94  6.24  \n",
      "25998  10.10  6.17  \n",
      "...      ...   ...  \n",
      "31594   3.80  2.28  \n",
      "31593   3.78  2.32  \n",
      "31592   3.78  2.24  \n",
      "31591   3.77  2.26  \n",
      "31600   3.68  2.31  \n",
      "\n",
      "[53937 rows x 11 columns]\n"
     ]
    }
   ],
   "source": [
    "print(\"sorting the entire diamonds data frame by the 'carat' series in ascending order\")\n",
    "result=diamonds.sort_values('carat')\n",
    "print(result)\n",
    "print(\"sorting the entire diamonds data frame by the 'carat' series in descending order\")\n",
    "result=diamonds.sort_values('carat',ascending=False)\n",
    "print(result)"
   ]
  },
  {
   "cell_type": "markdown",
   "id": "3599e3ae",
   "metadata": {},
   "source": [
    "## H.filter the data frame rows to only show carat weight at least 0.3"
   ]
  },
  {
   "cell_type": "code",
   "execution_count": 46,
   "id": "febebcef",
   "metadata": {},
   "outputs": [
    {
     "name": "stdout",
     "output_type": "stream",
     "text": [
      "Rows to only show carat weight at least 0.3:\n",
      "[False, False, False, False, False, False, False, True, False, False, True, False, True, True, True, True, True, True, False, False]\n"
     ]
    }
   ],
   "source": [
    "print(\"Rows to only show carat weight at least 0.3:\")\n",
    "booleans = []\n",
    "for w in diamonds.carat:\n",
    "    if w>= 0.3:\n",
    "        booleans.append(True)\n",
    "    else:\n",
    "        booleans.append(False)\n",
    "print(booleans[0:20])"
   ]
  },
  {
   "cell_type": "markdown",
   "id": "9042d4a5",
   "metadata": {},
   "source": [
    "## I.find the diamonds that are with a fair or good or premium"
   ]
  },
  {
   "cell_type": "code",
   "execution_count": 47,
   "id": "3891565a",
   "metadata": {},
   "outputs": [
    {
     "name": "stdout",
     "output_type": "stream",
     "text": [
      "\\ diamonds that are with a fair or good or premium:\n",
      "     Unnamed: 0  carat   cut color clarity  depth  table  price     x     y  \\\n",
      "8             9   0.22  Fair     E     VS2   65.1   61.0    337  3.87  3.78   \n",
      "91           92   0.86  Fair     E     SI2   55.1   69.0   2757  6.45  6.33   \n",
      "97           98   0.96  Fair     F     SI2   66.3   62.0   2759  6.27  5.95   \n",
      "123         124   0.70  Fair     F     VS2   64.5   57.0   2762  5.57  5.53   \n",
      "124         125   0.70  Fair     F     VS2   65.3   55.0   2762  5.63  5.58   \n",
      "\n",
      "        z  \n",
      "8    2.49  \n",
      "91   3.52  \n",
      "97   4.07  \n",
      "123  3.58  \n",
      "124  3.66  \n"
     ]
    }
   ],
   "source": [
    "print(\"\\ diamonds that are with a fair or good or premium:\")\n",
    "result=diamonds[diamonds.cut.isin([\"Fair\",\"good\",\"premium\"])]\n",
    "print(result.head())"
   ]
  },
  {
   "cell_type": "markdown",
   "id": "cd60504e",
   "metadata": {},
   "source": [
    "## J.Find the details of the diamonds where length>5,width>5 and depth>5"
   ]
  },
  {
   "cell_type": "code",
   "execution_count": 48,
   "id": "6bdd33a7",
   "metadata": {},
   "outputs": [
    {
     "name": "stdout",
     "output_type": "stream",
     "text": [
      "details of the diamonds where length>5, width>5 and depth>5:\n",
      "       Unnamed: 0  carat   cut color clarity  depth  table  price     x     y  \\\n",
      "11778       11779   1.83  Fair     J      I1   70.0   58.0   5083  7.34  7.28   \n",
      "13002       13003   2.14  Fair     J      I1   69.4   57.0   5405  7.74  7.70   \n",
      "13118       13119   2.15  Fair     J      I1   65.5   57.0   5430  8.01  7.95   \n",
      "13562       13563   1.96  Fair     F      I1   66.6   60.0   5554  7.59  7.56   \n",
      "13757       13758   2.22  Fair     J      I1   66.7   56.0   5607  8.04  8.02   \n",
      "\n",
      "          z  \n",
      "11778  5.12  \n",
      "13002  5.36  \n",
      "13118  5.23  \n",
      "13562  5.04  \n",
      "13757  5.36  \n"
     ]
    }
   ],
   "source": [
    "print(\"details of the diamonds where length>5, width>5 and depth>5:\")\n",
    "result=diamonds[(diamonds.x>5)&(diamonds.y>5)&(diamonds.z>5)]\n",
    "print(result.head())"
   ]
  },
  {
   "cell_type": "markdown",
   "id": "2b233b95",
   "metadata": {},
   "source": [
    "## K.read only a subset of 3 rows from diamonds data frame and iterate through diamonds data frame "
   ]
  },
  {
   "cell_type": "code",
   "execution_count": 64,
   "id": "74987d6b",
   "metadata": {},
   "outputs": [
    {
     "name": "stdout",
     "output_type": "stream",
     "text": [
      "\n",
      " subset of 3 rows:\n",
      "   Unnamed: 0  carat      cut color clarity  depth  table  price     x     y  \\\n",
      "0           1   0.23    Ideal     E     SI2   61.5     55    326  3.95  3.98   \n",
      "1           2   0.21  Premium     E     SI1   59.8     61    326  3.89  3.84   \n",
      "2           3   0.23     Good     E     VS1   56.9     65    327  4.05  4.07   \n",
      "\n",
      "      z  \n",
      "0  2.43  \n",
      "1  2.31  \n",
      "2  2.31  \n"
     ]
    }
   ],
   "source": [
    "print(\"\\n subset of 3 rows:\")\n",
    "result=pd.read_csv(\"diamonds.csv\",nrows=3)\n",
    "print(result.head())"
   ]
  },
  {
   "cell_type": "markdown",
   "id": "f502fde5",
   "metadata": {},
   "source": [
    "## K."
   ]
  },
  {
   "cell_type": "code",
   "execution_count": 65,
   "id": "fb14c853",
   "metadata": {},
   "outputs": [
    {
     "name": "stdout",
     "output_type": "stream",
     "text": [
      "iterating trough diamonds dataframe:\n",
      "0 0.23 Ideal E 326\n",
      "1 0.21 Premium E 326\n",
      "2 0.23 Good E 327\n"
     ]
    }
   ],
   "source": [
    "print(\"iterating trough diamonds dataframe:\")\n",
    "for index,row in result.iterrows():\n",
    "    print(index,row.carat,row.cut,row.color,row.price)"
   ]
  },
  {
   "cell_type": "markdown",
   "id": "6dc1e6e1",
   "metadata": {},
   "source": [
    "## L.calculate the mean of each numeric columns of diamonds data frame and calculate the mean of each row of diamonds data frame"
   ]
  },
  {
   "cell_type": "code",
   "execution_count": 51,
   "id": "3b4ee16b",
   "metadata": {},
   "outputs": [
    {
     "name": "stdout",
     "output_type": "stream",
     "text": [
      "Mean of each numeric column of diamonds data frame:\n",
      "Unnamed: 0    26971.999852\n",
      "carat             0.797970\n",
      "depth            61.749447\n",
      "table            57.457042\n",
      "price          3932.999963\n",
      "x                 5.731247\n",
      "y                 5.734615\n",
      "z                 3.538791\n",
      "dtype: float64\n"
     ]
    },
    {
     "name": "stderr",
     "output_type": "stream",
     "text": [
      "C:\\Users\\mutturaj\\AppData\\Local\\Temp\\ipykernel_4192\\2742054405.py:2: FutureWarning: Dropping of nuisance columns in DataFrame reductions (with 'numeric_only=None') is deprecated; in a future version this will raise TypeError.  Select only valid columns before calling the reduction.\n",
      "  print(diamonds.mean())\n"
     ]
    }
   ],
   "source": [
    "print(\"Mean of each numeric column of diamonds data frame:\")\n",
    "print(diamonds.mean())"
   ]
  },
  {
   "cell_type": "markdown",
   "id": "1c84d1dc",
   "metadata": {},
   "source": [
    "## L."
   ]
  },
  {
   "cell_type": "code",
   "execution_count": 52,
   "id": "a28c8d84",
   "metadata": {},
   "outputs": [
    {
     "name": "stdout",
     "output_type": "stream",
     "text": [
      "Mean of each numeric column of diamonds data frame:\n",
      "0    56.76125\n",
      "1    57.38125\n",
      "3    58.71875\n",
      "6    59.11750\n",
      "7    59.10875\n",
      "dtype: float64\n"
     ]
    },
    {
     "name": "stderr",
     "output_type": "stream",
     "text": [
      "C:\\Users\\mutturaj\\AppData\\Local\\Temp\\ipykernel_4192\\1513670009.py:2: FutureWarning: Dropping of nuisance columns in DataFrame reductions (with 'numeric_only=None') is deprecated; in a future version this will raise TypeError.  Select only valid columns before calling the reduction.\n",
      "  print(diamonds.mean(axis=1).head())\n"
     ]
    }
   ],
   "source": [
    "print(\"Mean of each numeric column of diamonds data frame:\")\n",
    "print(diamonds.mean(axis=1).head())"
   ]
  },
  {
   "cell_type": "markdown",
   "id": "2db805c4",
   "metadata": {},
   "source": [
    "## M.calculate the mean of price for each cut of diamonds data frame and calculate count,minimum,maximum price for each cut of diamonds data frame"
   ]
  },
  {
   "cell_type": "code",
   "execution_count": 53,
   "id": "1793103a",
   "metadata": {},
   "outputs": [
    {
     "name": "stdout",
     "output_type": "stream",
     "text": [
      "calculate the mean of price for each cut:\n",
      "cut\n",
      "Fair         4358.757764\n",
      "Good         3930.331770\n",
      "Ideal        3457.541970\n",
      "Premium      4584.257704\n",
      "Very Good    3982.061667\n",
      "Name: price, dtype: float64\n"
     ]
    }
   ],
   "source": [
    "print(\"calculate the mean of price for each cut:\")\n",
    "print(diamonds.groupby('cut').price.mean())"
   ]
  },
  {
   "cell_type": "markdown",
   "id": "1c4983c8",
   "metadata": {},
   "source": [
    "## M."
   ]
  },
  {
   "cell_type": "code",
   "execution_count": 54,
   "id": "77be5c0f",
   "metadata": {
    "scrolled": true
   },
   "outputs": [
    {
     "name": "stdout",
     "output_type": "stream",
     "text": [
      "\n",
      " count, minimum, maximum price for each cut of diamonds data frame:\n",
      "           count  min    max\n",
      "cut                         \n",
      "Fair        1610  337  18574\n",
      "Good        4904  339  18788\n",
      "Ideal      21551  326  18806\n",
      "Premium    13791  326  18823\n",
      "Very Good  12081  336  18818\n"
     ]
    }
   ],
   "source": [
    "print(\"\\n count, minimum, maximum price for each cut of diamonds data frame:\")\n",
    "print(diamonds.groupby('cut').price.agg(['count','min','max']))"
   ]
  },
  {
   "cell_type": "markdown",
   "id": "7e3d23f7",
   "metadata": {},
   "source": [
    "## N.count the number of missing values in each series of diamonds data frame"
   ]
  },
  {
   "cell_type": "code",
   "execution_count": 55,
   "id": "1b1f680d",
   "metadata": {},
   "outputs": [
    {
     "name": "stdout",
     "output_type": "stream",
     "text": [
      "number of missing values in each series of diamonds data frame\n",
      "Unnamed: 0    0\n",
      "carat         0\n",
      "cut           0\n",
      "color         0\n",
      "clarity       0\n",
      "depth         0\n",
      "table         0\n",
      "price         0\n",
      "x             0\n",
      "y             0\n",
      "z             0\n",
      "dtype: int64\n"
     ]
    }
   ],
   "source": [
    "print(\"number of missing values in each series of diamonds data frame\")\n",
    "print(diamonds.isnull().sum())"
   ]
  },
  {
   "cell_type": "markdown",
   "id": "802e623e",
   "metadata": {},
   "source": [
    "## O.access a specified series index and the series values of diamonds data frame"
   ]
  },
  {
   "cell_type": "code",
   "execution_count": 56,
   "id": "79fb049c",
   "metadata": {},
   "outputs": [
    {
     "name": "stdout",
     "output_type": "stream",
     "text": [
      "\n",
      " accessing the series index:\n",
      "Float64Index([ 0.3, 0.31, 1.01,  0.7, 0.32,  1.0,  0.9, 0.41,  0.4, 0.71,\n",
      "              ...\n",
      "               4.0,  3.4, 2.77,  2.7, 3.05, 3.02, 3.65,  3.5, 3.22, 3.11],\n",
      "             dtype='float64', length=273)\n",
      "\n",
      " accessing the series values:\n",
      "[2604 2248 2242 1981 1840 1558 1485 1382 1299 1294 1258 1189 1127  910\n",
      "  883  817  807  793  764  709  706  670  667  645  625  572  570  523\n",
      "  496  492  492  488  475  473  440  430  398  394  381  373  361  342\n",
      "  322  310  308  300  292  287  284  282  279  278  265  253  253  251\n",
      "  251  251  249  246  246  236  233  228  226  220  215  212  212  207\n",
      "  204  200  198  187  187  178  177  174  172  155  149  146  142  140\n",
      "  135  134  133  131  130  126  124  123  122  122  119  110  110  109\n",
      "  106  106  103  102  101   99   95   89   89   89   87   86   80   77\n",
      "   68   67   65   65   64   64   63   62   61   60   59   59   57   52\n",
      "   52   50   50   50   50   50   48   48   48   46   45   45   43   43\n",
      "   41   40   40   36   34   32   32   31   31   31   30   28   27   26\n",
      "   26   25   25   25   25   25   24   23   23   23   22   22   21   21\n",
      "   21   21   21   20   19   19   18   18   18   18   18   17   17   17\n",
      "   17   16   16   15   15   15   14   13   13   13   13   12   12   12\n",
      "   12   11    9    9    9    9    9    9    9    8    8    8    8    8\n",
      "    7    7    7    7    7    6    6    6    5    5    5    5    4    4\n",
      "    4    4    4    4    4    3    3    3    3    3    3    3    3    3\n",
      "    3    3    3    3    3    3    3    3    2    2    2    2    2    2\n",
      "    1    1    1    1    1    1    1    1    1    1    1    1    1    1\n",
      "    1    1    1    1    1    1    1]\n"
     ]
    }
   ],
   "source": [
    "print(\"\\n accessing the series index:\")\n",
    "print(diamonds.carat.value_counts().index)\n",
    "print(\"\\n accessing the series values:\")\n",
    "print(diamonds.carat.value_counts().values)"
   ]
  },
  {
   "cell_type": "markdown",
   "id": "ac627310",
   "metadata": {},
   "source": [
    "## P.read rows 0 through 2(inclusive),columns 'color' through 'price' (inclusive) of diamonds data frame "
   ]
  },
  {
   "cell_type": "code",
   "execution_count": 57,
   "id": "a8f3177c",
   "metadata": {},
   "outputs": [
    {
     "name": "stdout",
     "output_type": "stream",
     "text": [
      "\n",
      " rows 0 through 2 (inclusive), columns 'color' through 'price' (inclusive)\n",
      "  color  price\n",
      "0     E    326\n",
      "1     E    326\n"
     ]
    }
   ],
   "source": [
    "print(\"\\n rows 0 through 2 (inclusive), columns 'color' through 'price' (inclusive)\")\n",
    "print(diamonds.loc[0:2,['color','price']])"
   ]
  },
  {
   "cell_type": "markdown",
   "id": "daae7332",
   "metadata": {},
   "source": [
    "## Q.read rows in which the 'cut' is 'premium', column 'color' of diamonds data frame"
   ]
  },
  {
   "cell_type": "code",
   "execution_count": 58,
   "id": "8dc9e7de",
   "metadata": {},
   "outputs": [
    {
     "name": "stdout",
     "output_type": "stream",
     "text": [
      "\n",
      " rows in which the 'cut' is 'premium':\n",
      "Series([], Name: color, dtype: object)\n"
     ]
    }
   ],
   "source": [
    "print(\"\\n rows in which the 'cut' is 'premium':\")\n",
    "print(diamonds.loc[diamonds.cut=='premium','color'])"
   ]
  },
  {
   "cell_type": "markdown",
   "id": "8210de68",
   "metadata": {},
   "source": [
    "## R.detect duplicate color and count the duplicate rows of daimonds data frame"
   ]
  },
  {
   "cell_type": "code",
   "execution_count": 59,
   "id": "bffed0c8",
   "metadata": {},
   "outputs": [
    {
     "name": "stdout",
     "output_type": "stream",
     "text": [
      "number of rows and columns:\n",
      "(53937, 11)\n",
      "\n",
      " count the duplicate items:\n",
      "53930\n"
     ]
    }
   ],
   "source": [
    "print(\"number of rows and columns:\")\n",
    "print(diamonds.shape)\n",
    "print(\"\\n count the duplicate items:\")\n",
    "print(diamonds.color.duplicated().sum())"
   ]
  },
  {
   "cell_type": "code",
   "execution_count": 60,
   "id": "c48db663",
   "metadata": {},
   "outputs": [
    {
     "name": "stdout",
     "output_type": "stream",
     "text": [
      "\n",
      " duplicate rows of diamond dataset:\n",
      "0\n"
     ]
    }
   ],
   "source": [
    "dimonds=pd.read_csv('diamonds.csv')\n",
    "print(\"\\n duplicate rows of diamond dataset:\")\n",
    "print(diamonds.duplicated().sum())"
   ]
  },
  {
   "cell_type": "markdown",
   "id": "0ebbd9e6",
   "metadata": {},
   "source": [
    "## S.check the number of rows and columns and drop those row if 'any' values are missing in a row of diamonds data frame"
   ]
  },
  {
   "cell_type": "code",
   "execution_count": 61,
   "id": "798e3ef4",
   "metadata": {},
   "outputs": [
    {
     "name": "stdout",
     "output_type": "stream",
     "text": [
      "number of rows and columns:\n",
      "(53937, 11)\n",
      "after droping those rows which are having missing values:\n",
      "(53937, 11)\n"
     ]
    }
   ],
   "source": [
    "print(\"number of rows and columns:\")\n",
    "print(diamonds.shape)\n",
    "print(\"after droping those rows which are having missing values:\")\n",
    "print(diamonds.dropna(how='any').shape)"
   ]
  },
  {
   "cell_type": "markdown",
   "id": "8ef42993",
   "metadata": {},
   "source": [
    "## T.calculate various summary statistics of cut series of diamonds fata frame"
   ]
  },
  {
   "cell_type": "code",
   "execution_count": 62,
   "id": "eebd61dc",
   "metadata": {},
   "outputs": [
    {
     "name": "stdout",
     "output_type": "stream",
     "text": [
      "\n",
      " various summary statistics of cut series of diamonds data frame:\n",
      "count     53937\n",
      "unique        5\n",
      "top       Ideal\n",
      "freq      21551\n",
      "Name: cut, dtype: object\n"
     ]
    }
   ],
   "source": [
    "print(\"\\n various summary statistics of cut series of diamonds data frame:\")\n",
    "print(diamonds.cut.describe())"
   ]
  },
  {
   "cell_type": "markdown",
   "id": "5dedfee9",
   "metadata": {},
   "source": [
    "## U.concatenate the diamonds data frame with the 'color' series"
   ]
  },
  {
   "cell_type": "code",
   "execution_count": 63,
   "id": "ff994ac3",
   "metadata": {},
   "outputs": [
    {
     "name": "stdout",
     "output_type": "stream",
     "text": [
      "original dataset:\n",
      "   Unnamed: 0  carat        cut color clarity  depth  table  price     x  \\\n",
      "0           1   0.23      Ideal     E     SI2   61.5   55.0    326  3.95   \n",
      "1           2   0.21    Premium     E     SI1   59.8   61.0    326  3.89   \n",
      "3           4   0.29    Premium     I     VS2   62.4   58.0    334  4.20   \n",
      "6           7   0.24  Very Good     I    VVS1   62.3   57.0    336  3.95   \n",
      "7           8   0.26  Very Good     H     SI1   61.9   55.0    337  4.07   \n",
      "\n",
      "      y     z  \n",
      "0  3.98  2.43  \n",
      "1  3.84  2.31  \n",
      "3  4.23  2.63  \n",
      "6  3.98  2.47  \n",
      "7  4.11  2.53  \n",
      "concatenate the diamonds data frame with the 'color' series:\n",
      "   Unnamed: 0  carat        cut color clarity  depth  table  price     x  \\\n",
      "0           1   0.23      Ideal     E     SI2   61.5   55.0    326  3.95   \n",
      "1           2   0.21    Premium     E     SI1   59.8   61.0    326  3.89   \n",
      "3           4   0.29    Premium     I     VS2   62.4   58.0    334  4.20   \n",
      "6           7   0.24  Very Good     I    VVS1   62.3   57.0    336  3.95   \n",
      "7           8   0.26  Very Good     H     SI1   61.9   55.0    337  4.07   \n",
      "\n",
      "      y     z color  \n",
      "0  3.98  2.43     E  \n",
      "1  3.84  2.31     E  \n",
      "3  4.23  2.63     I  \n",
      "6  3.98  2.47     I  \n",
      "7  4.11  2.53     H  \n"
     ]
    }
   ],
   "source": [
    "print(\"original dataset:\")\n",
    "print(diamonds.head())\n",
    "print(\"concatenate the diamonds data frame with the 'color' series:\")\n",
    "print(pd.concat([diamonds,diamonds.color],axis=1).head())"
   ]
  },
  {
   "cell_type": "code",
   "execution_count": null,
   "id": "3a2ccf62",
   "metadata": {},
   "outputs": [],
   "source": []
  }
 ],
 "metadata": {
  "kernelspec": {
   "display_name": "Python 3 (ipykernel)",
   "language": "python",
   "name": "python3"
  },
  "language_info": {
   "codemirror_mode": {
    "name": "ipython",
    "version": 3
   },
   "file_extension": ".py",
   "mimetype": "text/x-python",
   "name": "python",
   "nbconvert_exporter": "python",
   "pygments_lexer": "ipython3",
   "version": "3.9.12"
  }
 },
 "nbformat": 4,
 "nbformat_minor": 5
}
